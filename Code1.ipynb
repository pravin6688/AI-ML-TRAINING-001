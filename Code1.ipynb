{
 "cells": [
  {
   "cell_type": "code",
   "execution_count": 1,
   "id": "7d82c51a-9fc1-40ed-9b1a-6c1667a58bc1",
   "metadata": {},
   "outputs": [],
   "source": [
    "import numpy as np\n",
    "import pandas as pd\n",
    "import matplotlib.pyplot as plt\n",
    "import seaborn as sns"
   ]
  },
  {
   "cell_type": "code",
   "execution_count": 2,
   "id": "3f40adaf-1037-4a33-9b99-9cac4c98c800",
   "metadata": {},
   "outputs": [],
   "source": [
    "apartments=[f\"Apt_{i}\" for i in range(1,21)]"
   ]
  },
  {
   "cell_type": "code",
   "execution_count": 3,
   "id": "e8263d43-976e-402e-a6d5-58378081d206",
   "metadata": {},
   "outputs": [],
   "source": [
    "dates=pd.date_range(start='2025-07-01', periods=30, freq='D')"
   ]
  },
  {
   "cell_type": "code",
   "execution_count": 4,
   "id": "916eda0b-4479-40f7-880f-5fb878906c2c",
   "metadata": {},
   "outputs": [],
   "source": [
    "date={\n",
    "    \"Date\":np.tile(dates,len(apartments)),\n",
    "    \"Appartment\":np.repeat(apartments,len(dates)),\n",
    "    \"Electricity_usage\":np.random.normal(loc=20,scale=5,size=len(dates)*len(apartments))\n",
    "}"
   ]
  },
  {
   "cell_type": "code",
   "execution_count": 5,
   "id": "3eec87d1-7cb0-4ce8-857e-f0652d312666",
   "metadata": {},
   "outputs": [],
   "source": [
    "df=pd.DataFrame(date)"
   ]
  },
  {
   "cell_type": "code",
   "execution_count": 6,
   "id": "023de36b-5bda-44fa-91c5-424f27840241",
   "metadata": {},
   "outputs": [
    {
     "data": {
      "text/html": [
       "<div>\n",
       "<style scoped>\n",
       "    .dataframe tbody tr th:only-of-type {\n",
       "        vertical-align: middle;\n",
       "    }\n",
       "\n",
       "    .dataframe tbody tr th {\n",
       "        vertical-align: top;\n",
       "    }\n",
       "\n",
       "    .dataframe thead th {\n",
       "        text-align: right;\n",
       "    }\n",
       "</style>\n",
       "<table border=\"1\" class=\"dataframe\">\n",
       "  <thead>\n",
       "    <tr style=\"text-align: right;\">\n",
       "      <th></th>\n",
       "      <th>Date</th>\n",
       "      <th>Appartment</th>\n",
       "      <th>Electricity_usage</th>\n",
       "    </tr>\n",
       "  </thead>\n",
       "  <tbody>\n",
       "    <tr>\n",
       "      <th>0</th>\n",
       "      <td>2025-07-01</td>\n",
       "      <td>Apt_1</td>\n",
       "      <td>24.398047</td>\n",
       "    </tr>\n",
       "    <tr>\n",
       "      <th>1</th>\n",
       "      <td>2025-07-02</td>\n",
       "      <td>Apt_1</td>\n",
       "      <td>14.893361</td>\n",
       "    </tr>\n",
       "    <tr>\n",
       "      <th>2</th>\n",
       "      <td>2025-07-03</td>\n",
       "      <td>Apt_1</td>\n",
       "      <td>22.384915</td>\n",
       "    </tr>\n",
       "    <tr>\n",
       "      <th>3</th>\n",
       "      <td>2025-07-04</td>\n",
       "      <td>Apt_1</td>\n",
       "      <td>24.448996</td>\n",
       "    </tr>\n",
       "    <tr>\n",
       "      <th>4</th>\n",
       "      <td>2025-07-05</td>\n",
       "      <td>Apt_1</td>\n",
       "      <td>21.346313</td>\n",
       "    </tr>\n",
       "    <tr>\n",
       "      <th>...</th>\n",
       "      <td>...</td>\n",
       "      <td>...</td>\n",
       "      <td>...</td>\n",
       "    </tr>\n",
       "    <tr>\n",
       "      <th>595</th>\n",
       "      <td>2025-07-26</td>\n",
       "      <td>Apt_20</td>\n",
       "      <td>11.876737</td>\n",
       "    </tr>\n",
       "    <tr>\n",
       "      <th>596</th>\n",
       "      <td>2025-07-27</td>\n",
       "      <td>Apt_20</td>\n",
       "      <td>20.932574</td>\n",
       "    </tr>\n",
       "    <tr>\n",
       "      <th>597</th>\n",
       "      <td>2025-07-28</td>\n",
       "      <td>Apt_20</td>\n",
       "      <td>23.133898</td>\n",
       "    </tr>\n",
       "    <tr>\n",
       "      <th>598</th>\n",
       "      <td>2025-07-29</td>\n",
       "      <td>Apt_20</td>\n",
       "      <td>20.187145</td>\n",
       "    </tr>\n",
       "    <tr>\n",
       "      <th>599</th>\n",
       "      <td>2025-07-30</td>\n",
       "      <td>Apt_20</td>\n",
       "      <td>19.650473</td>\n",
       "    </tr>\n",
       "  </tbody>\n",
       "</table>\n",
       "<p>600 rows × 3 columns</p>\n",
       "</div>"
      ],
      "text/plain": [
       "          Date Appartment  Electricity_usage\n",
       "0   2025-07-01      Apt_1          24.398047\n",
       "1   2025-07-02      Apt_1          14.893361\n",
       "2   2025-07-03      Apt_1          22.384915\n",
       "3   2025-07-04      Apt_1          24.448996\n",
       "4   2025-07-05      Apt_1          21.346313\n",
       "..         ...        ...                ...\n",
       "595 2025-07-26     Apt_20          11.876737\n",
       "596 2025-07-27     Apt_20          20.932574\n",
       "597 2025-07-28     Apt_20          23.133898\n",
       "598 2025-07-29     Apt_20          20.187145\n",
       "599 2025-07-30     Apt_20          19.650473\n",
       "\n",
       "[600 rows x 3 columns]"
      ]
     },
     "execution_count": 6,
     "metadata": {},
     "output_type": "execute_result"
    }
   ],
   "source": [
    "df"
   ]
  },
  {
   "cell_type": "code",
   "execution_count": 7,
   "id": "61b7c20b-8ded-434c-803a-8fab62fe82aa",
   "metadata": {},
   "outputs": [],
   "source": [
    "df[\"Electricity_usage\"]=df[\"Electricity_usage\"].round(2)"
   ]
  },
  {
   "cell_type": "code",
   "execution_count": 8,
   "id": "87fc0965-29c6-4e05-bf18-5dffd0551639",
   "metadata": {},
   "outputs": [
    {
     "data": {
      "text/html": [
       "<div>\n",
       "<style scoped>\n",
       "    .dataframe tbody tr th:only-of-type {\n",
       "        vertical-align: middle;\n",
       "    }\n",
       "\n",
       "    .dataframe tbody tr th {\n",
       "        vertical-align: top;\n",
       "    }\n",
       "\n",
       "    .dataframe thead th {\n",
       "        text-align: right;\n",
       "    }\n",
       "</style>\n",
       "<table border=\"1\" class=\"dataframe\">\n",
       "  <thead>\n",
       "    <tr style=\"text-align: right;\">\n",
       "      <th></th>\n",
       "      <th>Date</th>\n",
       "      <th>Appartment</th>\n",
       "      <th>Electricity_usage</th>\n",
       "    </tr>\n",
       "  </thead>\n",
       "  <tbody>\n",
       "    <tr>\n",
       "      <th>0</th>\n",
       "      <td>2025-07-01</td>\n",
       "      <td>Apt_1</td>\n",
       "      <td>24.40</td>\n",
       "    </tr>\n",
       "    <tr>\n",
       "      <th>1</th>\n",
       "      <td>2025-07-02</td>\n",
       "      <td>Apt_1</td>\n",
       "      <td>14.89</td>\n",
       "    </tr>\n",
       "    <tr>\n",
       "      <th>2</th>\n",
       "      <td>2025-07-03</td>\n",
       "      <td>Apt_1</td>\n",
       "      <td>22.38</td>\n",
       "    </tr>\n",
       "    <tr>\n",
       "      <th>3</th>\n",
       "      <td>2025-07-04</td>\n",
       "      <td>Apt_1</td>\n",
       "      <td>24.45</td>\n",
       "    </tr>\n",
       "    <tr>\n",
       "      <th>4</th>\n",
       "      <td>2025-07-05</td>\n",
       "      <td>Apt_1</td>\n",
       "      <td>21.35</td>\n",
       "    </tr>\n",
       "    <tr>\n",
       "      <th>...</th>\n",
       "      <td>...</td>\n",
       "      <td>...</td>\n",
       "      <td>...</td>\n",
       "    </tr>\n",
       "    <tr>\n",
       "      <th>595</th>\n",
       "      <td>2025-07-26</td>\n",
       "      <td>Apt_20</td>\n",
       "      <td>11.88</td>\n",
       "    </tr>\n",
       "    <tr>\n",
       "      <th>596</th>\n",
       "      <td>2025-07-27</td>\n",
       "      <td>Apt_20</td>\n",
       "      <td>20.93</td>\n",
       "    </tr>\n",
       "    <tr>\n",
       "      <th>597</th>\n",
       "      <td>2025-07-28</td>\n",
       "      <td>Apt_20</td>\n",
       "      <td>23.13</td>\n",
       "    </tr>\n",
       "    <tr>\n",
       "      <th>598</th>\n",
       "      <td>2025-07-29</td>\n",
       "      <td>Apt_20</td>\n",
       "      <td>20.19</td>\n",
       "    </tr>\n",
       "    <tr>\n",
       "      <th>599</th>\n",
       "      <td>2025-07-30</td>\n",
       "      <td>Apt_20</td>\n",
       "      <td>19.65</td>\n",
       "    </tr>\n",
       "  </tbody>\n",
       "</table>\n",
       "<p>600 rows × 3 columns</p>\n",
       "</div>"
      ],
      "text/plain": [
       "          Date Appartment  Electricity_usage\n",
       "0   2025-07-01      Apt_1              24.40\n",
       "1   2025-07-02      Apt_1              14.89\n",
       "2   2025-07-03      Apt_1              22.38\n",
       "3   2025-07-04      Apt_1              24.45\n",
       "4   2025-07-05      Apt_1              21.35\n",
       "..         ...        ...                ...\n",
       "595 2025-07-26     Apt_20              11.88\n",
       "596 2025-07-27     Apt_20              20.93\n",
       "597 2025-07-28     Apt_20              23.13\n",
       "598 2025-07-29     Apt_20              20.19\n",
       "599 2025-07-30     Apt_20              19.65\n",
       "\n",
       "[600 rows x 3 columns]"
      ]
     },
     "execution_count": 8,
     "metadata": {},
     "output_type": "execute_result"
    }
   ],
   "source": [
    "df"
   ]
  },
  {
   "cell_type": "code",
   "execution_count": 9,
   "id": "ecb6f3d0-aaf0-41a4-948a-47dd55ac520a",
   "metadata": {},
   "outputs": [
    {
     "name": "stdout",
     "output_type": "stream",
     "text": [
      "Date                 0\n",
      "Appartment           0\n",
      "Electricity_usage    0\n",
      "dtype: int64\n"
     ]
    }
   ],
   "source": [
    "print(df.isnull().sum())"
   ]
  },
  {
   "cell_type": "code",
   "execution_count": 10,
   "id": "0acd5279-fa4d-46b3-a19c-2c5567e13487",
   "metadata": {},
   "outputs": [
    {
     "data": {
      "text/plain": [
       "Date                 datetime64[ns]\n",
       "Appartment                   object\n",
       "Electricity_usage           float64\n",
       "dtype: object"
      ]
     },
     "execution_count": 10,
     "metadata": {},
     "output_type": "execute_result"
    }
   ],
   "source": [
    "df.dtypes"
   ]
  },
  {
   "cell_type": "code",
   "execution_count": 11,
   "id": "0ffd686c-6f73-431e-90cb-9271f0ef7c72",
   "metadata": {},
   "outputs": [
    {
     "data": {
      "text/html": [
       "<div>\n",
       "<style scoped>\n",
       "    .dataframe tbody tr th:only-of-type {\n",
       "        vertical-align: middle;\n",
       "    }\n",
       "\n",
       "    .dataframe tbody tr th {\n",
       "        vertical-align: top;\n",
       "    }\n",
       "\n",
       "    .dataframe thead th {\n",
       "        text-align: right;\n",
       "    }\n",
       "</style>\n",
       "<table border=\"1\" class=\"dataframe\">\n",
       "  <thead>\n",
       "    <tr style=\"text-align: right;\">\n",
       "      <th></th>\n",
       "      <th>Date</th>\n",
       "      <th>Appartment</th>\n",
       "      <th>Electricity_usage</th>\n",
       "    </tr>\n",
       "  </thead>\n",
       "  <tbody>\n",
       "    <tr>\n",
       "      <th>0</th>\n",
       "      <td>2025-07-01</td>\n",
       "      <td>Apt_1</td>\n",
       "      <td>24.40</td>\n",
       "    </tr>\n",
       "    <tr>\n",
       "      <th>1</th>\n",
       "      <td>2025-07-02</td>\n",
       "      <td>Apt_1</td>\n",
       "      <td>14.89</td>\n",
       "    </tr>\n",
       "    <tr>\n",
       "      <th>2</th>\n",
       "      <td>2025-07-03</td>\n",
       "      <td>Apt_1</td>\n",
       "      <td>22.38</td>\n",
       "    </tr>\n",
       "    <tr>\n",
       "      <th>3</th>\n",
       "      <td>2025-07-04</td>\n",
       "      <td>Apt_1</td>\n",
       "      <td>24.45</td>\n",
       "    </tr>\n",
       "    <tr>\n",
       "      <th>4</th>\n",
       "      <td>2025-07-05</td>\n",
       "      <td>Apt_1</td>\n",
       "      <td>21.35</td>\n",
       "    </tr>\n",
       "  </tbody>\n",
       "</table>\n",
       "</div>"
      ],
      "text/plain": [
       "        Date Appartment  Electricity_usage\n",
       "0 2025-07-01      Apt_1              24.40\n",
       "1 2025-07-02      Apt_1              14.89\n",
       "2 2025-07-03      Apt_1              22.38\n",
       "3 2025-07-04      Apt_1              24.45\n",
       "4 2025-07-05      Apt_1              21.35"
      ]
     },
     "execution_count": 11,
     "metadata": {},
     "output_type": "execute_result"
    }
   ],
   "source": [
    "df.head()"
   ]
  },
  {
   "cell_type": "code",
   "execution_count": 12,
   "id": "dd6ada2e-3ea2-4cb6-8800-8e4b028eaac4",
   "metadata": {},
   "outputs": [
    {
     "data": {
      "text/html": [
       "<div>\n",
       "<style scoped>\n",
       "    .dataframe tbody tr th:only-of-type {\n",
       "        vertical-align: middle;\n",
       "    }\n",
       "\n",
       "    .dataframe tbody tr th {\n",
       "        vertical-align: top;\n",
       "    }\n",
       "\n",
       "    .dataframe thead th {\n",
       "        text-align: right;\n",
       "    }\n",
       "</style>\n",
       "<table border=\"1\" class=\"dataframe\">\n",
       "  <thead>\n",
       "    <tr style=\"text-align: right;\">\n",
       "      <th></th>\n",
       "      <th>Date</th>\n",
       "      <th>Appartment</th>\n",
       "      <th>Electricity_usage</th>\n",
       "    </tr>\n",
       "  </thead>\n",
       "  <tbody>\n",
       "    <tr>\n",
       "      <th>595</th>\n",
       "      <td>2025-07-26</td>\n",
       "      <td>Apt_20</td>\n",
       "      <td>11.88</td>\n",
       "    </tr>\n",
       "    <tr>\n",
       "      <th>596</th>\n",
       "      <td>2025-07-27</td>\n",
       "      <td>Apt_20</td>\n",
       "      <td>20.93</td>\n",
       "    </tr>\n",
       "    <tr>\n",
       "      <th>597</th>\n",
       "      <td>2025-07-28</td>\n",
       "      <td>Apt_20</td>\n",
       "      <td>23.13</td>\n",
       "    </tr>\n",
       "    <tr>\n",
       "      <th>598</th>\n",
       "      <td>2025-07-29</td>\n",
       "      <td>Apt_20</td>\n",
       "      <td>20.19</td>\n",
       "    </tr>\n",
       "    <tr>\n",
       "      <th>599</th>\n",
       "      <td>2025-07-30</td>\n",
       "      <td>Apt_20</td>\n",
       "      <td>19.65</td>\n",
       "    </tr>\n",
       "  </tbody>\n",
       "</table>\n",
       "</div>"
      ],
      "text/plain": [
       "          Date Appartment  Electricity_usage\n",
       "595 2025-07-26     Apt_20              11.88\n",
       "596 2025-07-27     Apt_20              20.93\n",
       "597 2025-07-28     Apt_20              23.13\n",
       "598 2025-07-29     Apt_20              20.19\n",
       "599 2025-07-30     Apt_20              19.65"
      ]
     },
     "execution_count": 12,
     "metadata": {},
     "output_type": "execute_result"
    }
   ],
   "source": [
    "df.tail()"
   ]
  },
  {
   "cell_type": "code",
   "execution_count": 13,
   "id": "e208f147-a83d-451b-9479-7bac3ddf698f",
   "metadata": {},
   "outputs": [
    {
     "data": {
      "text/plain": [
       "(600, 3)"
      ]
     },
     "execution_count": 13,
     "metadata": {},
     "output_type": "execute_result"
    }
   ],
   "source": [
    "df.shape"
   ]
  },
  {
   "cell_type": "code",
   "execution_count": 14,
   "id": "73342541-6df1-403b-99b6-cde676cf96df",
   "metadata": {},
   "outputs": [
    {
     "name": "stdout",
     "output_type": "stream",
     "text": [
      "<class 'pandas.core.frame.DataFrame'>\n",
      "RangeIndex: 600 entries, 0 to 599\n",
      "Data columns (total 3 columns):\n",
      " #   Column             Non-Null Count  Dtype         \n",
      "---  ------             --------------  -----         \n",
      " 0   Date               600 non-null    datetime64[ns]\n",
      " 1   Appartment         600 non-null    object        \n",
      " 2   Electricity_usage  600 non-null    float64       \n",
      "dtypes: datetime64[ns](1), float64(1), object(1)\n",
      "memory usage: 14.2+ KB\n"
     ]
    }
   ],
   "source": [
    "df.info()"
   ]
  },
  {
   "cell_type": "code",
   "execution_count": 15,
   "id": "3ed72552-f912-4f12-92e0-e48f84d07260",
   "metadata": {},
   "outputs": [
    {
     "name": "stdout",
     "output_type": "stream",
     "text": [
      "Appartment\n",
      "Apt_1     609.36\n",
      "Apt_10    588.29\n",
      "Apt_11    577.32\n",
      "Apt_12    594.99\n",
      "Apt_13    611.24\n",
      "Apt_14    586.24\n",
      "Apt_15    586.74\n",
      "Apt_16    605.60\n",
      "Apt_17    597.11\n",
      "Apt_18    607.30\n",
      "Apt_19    557.25\n",
      "Apt_2     613.44\n",
      "Apt_20    589.58\n",
      "Apt_3     623.73\n",
      "Apt_4     588.07\n",
      "Apt_5     604.29\n",
      "Apt_6     596.45\n",
      "Apt_7     594.11\n",
      "Apt_8     622.08\n",
      "Apt_9     566.81\n",
      "Name: Electricity_usage, dtype: float64\n"
     ]
    }
   ],
   "source": [
    "usage_per_apartment=df.groupby(\"Appartment\")[\"Electricity_usage\"].sum()\n",
    "print(usage_per_apartment)"
   ]
  },
  {
   "cell_type": "code",
   "execution_count": 16,
   "id": "9b0bd0cf-e7fa-4d00-9388-98635526e1db",
   "metadata": {},
   "outputs": [
    {
     "name": "stdout",
     "output_type": "stream",
     "text": [
      "Appartment\n",
      "Apt_3     623.73\n",
      "Apt_8     622.08\n",
      "Apt_2     613.44\n",
      "Apt_13    611.24\n",
      "Apt_1     609.36\n",
      "Apt_18    607.30\n",
      "Apt_16    605.60\n",
      "Apt_5     604.29\n",
      "Apt_17    597.11\n",
      "Apt_6     596.45\n",
      "Apt_12    594.99\n",
      "Apt_7     594.11\n",
      "Apt_20    589.58\n",
      "Apt_10    588.29\n",
      "Apt_4     588.07\n",
      "Apt_15    586.74\n",
      "Apt_14    586.24\n",
      "Apt_11    577.32\n",
      "Apt_9     566.81\n",
      "Apt_19    557.25\n",
      "Name: Electricity_usage, dtype: float64\n"
     ]
    }
   ],
   "source": [
    "usage_per_apartment=df.groupby(\"Appartment\")[\"Electricity_usage\"].sum().sort_values(ascending=False)\n",
    "print(usage_per_apartment)"
   ]
  },
  {
   "cell_type": "code",
   "execution_count": 17,
   "id": "9f7cd682-a5ec-4b5a-af4d-8f201142f5dc",
   "metadata": {},
   "outputs": [
    {
     "name": "stdout",
     "output_type": "stream",
     "text": [
      "Date\n",
      "2025-07-01    19.6555\n",
      "2025-07-02    19.9295\n",
      "2025-07-03    20.4185\n",
      "2025-07-04    20.3185\n",
      "2025-07-05    20.8805\n",
      "Name: Electricity_usage, dtype: float64\n"
     ]
    }
   ],
   "source": [
    "daily_avg=df.groupby(\"Date\")[\"Electricity_usage\"].mean()\n",
    "print(daily_avg.head())"
   ]
  },
  {
   "cell_type": "code",
   "execution_count": 23,
   "id": "ce1d58cd-050b-4fa7-b600-b1cb4e2c445d",
   "metadata": {},
   "outputs": [
    {
     "data": {
      "image/png": "[encoded data removed]",
      "text/plain": [
       "<Figure size 1000x600 with 1 Axes>"
      ]
     },
     "metadata": {},
     "output_type": "display_data"
    }
   ],
   "source": [
    "plt.figure(figsize=(10,6))\n",
    "sns.barplot(x=usage_per_apartment.index, y= usage_per_apartment.values)\n",
    "plt.xticks(rotation=90)\n",
    "plt.title(\"Total usage per Apartments\")\n",
    "plt.xlabel(\"Appartment\")\n",
    "plt.ylabel(\"Total KW1\")\n",
    "plt.tight_layout()"
   ]
  },
  {
   "cell_type": "code",
   "execution_count": 21,
   "id": "21162deb-27c4-4338-91fc-bd684f984900",
   "metadata": {},
   "outputs": [
    {
     "data": {
      "image/png": "[encoded data removed]",
      "text/plain": [
       "<Figure size 1000x600 with 1 Axes>"
      ]
     },
     "metadata": {},
     "output_type": "display_data"
    }
   ],
   "source": [
    "plt.figure(figsize=(10,6))\n",
    "sns.lineplot(x=daily_avg.index, y= daily_avg.values)\n",
    "plt.xticks(rotation=90)\n",
    "plt.title(\"Total usage per Apartments\")\n",
    "plt.xlabel(\"Appartment\")\n",
    "plt.ylabel(\"Total KW1\")\n",
    "plt.tight_layout()"
   ]
  },
  {
   "cell_type": "code",
   "execution_count": 24,
   "id": "ef022e15-0693-4c09-9f37-e280adc43b3a",
   "metadata": {},
   "outputs": [
    {
     "name": "stdout",
     "output_type": "stream",
     "text": [
      "          Date Appartment  Electricity_usage  High_usage_flag\n",
      "20  2025-07-21      Apt_1              32.65             True\n",
      "64  2025-07-05      Apt_3              30.20             True\n",
      "112 2025-07-23      Apt_4              32.44             True\n",
      "168 2025-07-19      Apt_6              31.06             True\n",
      "175 2025-07-26      Apt_6              31.34             True\n"
     ]
    }
   ],
   "source": [
    "thresholds=df[\"Electricity_usage\"].mean()+2 *df[\"Electricity_usage\"].std()\n",
    "df[\"High_usage_flag\"]=df[\"Electricity_usage\"] > thresholds\n",
    "print(df[df[\"High_usage_flag\"] == True].head())"
   ]
  },
  {
   "cell_type": "code",
   "execution_count": null,
   "id": "7c8d81b2-7f61-485e-8a72-6666fe60bfe2",
   "metadata": {},
   "outputs": [],
   "source": []
  }
 ],
 "metadata": {
  "kernelspec": {
   "display_name": "Python [conda env:base] *",
   "language": "python",
   "name": "conda-base-py"
  },
  "language_info": {
   "codemirror_mode": {
    "name": "ipython",
    "version": 3
   },
   "file_extension": ".py",
   "mimetype": "text/x-python",
   "name": "python",
   "nbconvert_exporter": "python",
   "pygments_lexer": "ipython3",
   "version": "3.13.5"
  }
 },
 "nbformat": 4,
 "nbformat_minor": 5
}
