{
  "nbformat": 4,
  "nbformat_minor": 0,
  "metadata": {
    "colab": {
      "provenance": []
    },
    "kernelspec": {
      "name": "python3",
      "display_name": "Python 3"
    },
    "language_info": {
      "name": "python"
    }
  },
  "cells": [
    {
      "cell_type": "code",
      "execution_count": null,
      "metadata": {
        "colab": {
          "base_uri": "https://localhost:8080/"
        },
        "id": "QwybLxWLxp6U",
        "outputId": "4486e6e6-0ee8-44ec-a2ea-fa510353d34b"
      },
      "outputs": [
        {
          "output_type": "stream",
          "name": "stdout",
          "text": [
            "Requirement already satisfied: pyspark in /usr/local/lib/python3.11/dist-packages (3.5.1)\n",
            "Requirement already satisfied: py4j==0.10.9.7 in /usr/local/lib/python3.11/dist-packages (from pyspark) (0.10.9.7)\n"
          ]
        }
      ],
      "source": [
        "pip install pyspark"
      ]
    },
    {
      "cell_type": "code",
      "source": [
        "import pyspark\n",
        "from pyspark.sql import SparkSession"
      ],
      "metadata": {
        "id": "sraQJlJOxx-T"
      },
      "execution_count": null,
      "outputs": []
    },
    {
      "cell_type": "code",
      "source": [
        "spark = SparkSession.builder \\\n",
        "    .appName(\"PySparkExample\") \\\n",
        "    .getOrCreate()"
      ],
      "metadata": {
        "id": "Kc2SKFoXxx77"
      },
      "execution_count": null,
      "outputs": []
    },
    {
      "cell_type": "code",
      "source": [
        "#Crate a DataFrame with sample data\n",
        "data = [(\"Sri\", 20), (\"Senthil\", 21), (\"Rahul\", 19)]\n",
        "df = spark.createDataFrame(data, [\"Name\", \"Age\"])"
      ],
      "metadata": {
        "id": "EerdXwtXxx49"
      },
      "execution_count": null,
      "outputs": []
    },
    {
      "cell_type": "code",
      "source": [
        "#Show the DataFrame\n",
        "df.show()"
      ],
      "metadata": {
        "colab": {
          "base_uri": "https://localhost:8080/"
        },
        "id": "KprmbHyExx2E",
        "outputId": "48522940-6d48-4ea0-da84-f4c690a9c8c6"
      },
      "execution_count": null,
      "outputs": [
        {
          "output_type": "stream",
          "name": "stdout",
          "text": [
            "+-------+---+\n",
            "|   Name|Age|\n",
            "+-------+---+\n",
            "|    Sri| 20|\n",
            "|Senthil| 21|\n",
            "|  Rahul| 19|\n",
            "+-------+---+\n",
            "\n"
          ]
        }
      ]
    },
    {
      "cell_type": "code",
      "source": [
        "#Stop the Spark session\n",
        "spark.stop()"
      ],
      "metadata": {
        "id": "9qnZUHIKxxwE"
      },
      "execution_count": null,
      "outputs": []
    },
    {
      "cell_type": "code",
      "source": [
        "from pyspark.sql import SparkSession\n",
        "spark = SparkSession.builder.appName(\"PySparkExample\").getOrCreate()\n",
        "data = [(\"blueberry\", 16), (\"kaly\", 18), (\"soniya\", 21)]\n",
        "df = spark.createDataFrame(data,[\"Name\",\"Age\"])\n",
        "df.show()\n",
        "spark.stop()"
      ],
      "metadata": {
        "colab": {
          "base_uri": "https://localhost:8080/"
        },
        "id": "SOb8QnbZxxms",
        "outputId": "6f3f4f45-ce8b-45dc-8e7a-1db0121052e1"
      },
      "execution_count": null,
      "outputs": [
        {
          "output_type": "stream",
          "name": "stdout",
          "text": [
            "+---------+---+\n",
            "|     Name|Age|\n",
            "+---------+---+\n",
            "|blueberry| 16|\n",
            "|     kaly| 18|\n",
            "|   soniya| 21|\n",
            "+---------+---+\n",
            "\n"
          ]
        }
      ]
    },
    {
      "cell_type": "code",
      "source": [
        "from pyspark.sql import SparkSession"
      ],
      "metadata": {
        "id": "44F--yBrxxYs"
      },
      "execution_count": null,
      "outputs": []
    },
    {
      "cell_type": "code",
      "source": [
        "spark = SparkSession.builder.appName(\"StudentAssignment\").getOrCreate()"
      ],
      "metadata": {
        "id": "vpTvCBAE64h4"
      },
      "execution_count": null,
      "outputs": []
    },
    {
      "cell_type": "code",
      "source": [
        "# Sample employee data\n",
        "data = [\n",
        "(1, \"Alice\", \"Engineering\", 65000),\n",
        "(2, \"Bob\", \"Marketing\", 58000),\n",
        "(3, \"Charlie\", \"Sales\", 52000),\n",
        "(4, \"David\", \"Engineering\", 72000),\n",
        "(5, \"Eve\", \"Sales\", 54000)\n",
        "]"
      ],
      "metadata": {
        "id": "eALJ9zE264eW"
      },
      "execution_count": null,
      "outputs": []
    },
    {
      "cell_type": "code",
      "source": [
        "schema = [\"ID\", \"Name\", \"Department\", \"Salary\"]\n",
        "df = spark.createDataFrame(data, schema=schema)\n",
        "df.show()"
      ],
      "metadata": {
        "colab": {
          "base_uri": "https://localhost:8080/"
        },
        "id": "AySv84Ho64am",
        "outputId": "4b62b937-4cd2-4c50-9080-77e6d5637aad"
      },
      "execution_count": null,
      "outputs": [
        {
          "output_type": "stream",
          "name": "stdout",
          "text": [
            "+---+-------+-----------+------+\n",
            "| ID|   Name| Department|Salary|\n",
            "+---+-------+-----------+------+\n",
            "|  1|  Alice|Engineering| 65000|\n",
            "|  2|    Bob|  Marketing| 58000|\n",
            "|  3|Charlie|      Sales| 52000|\n",
            "|  4|  David|Engineering| 72000|\n",
            "|  5|    Eve|      Sales| 54000|\n",
            "+---+-------+-----------+------+\n",
            "\n"
          ]
        }
      ]
    },
    {
      "cell_type": "code",
      "source": [
        "#Show schema\n",
        "df.printSchema()"
      ],
      "metadata": {
        "colab": {
          "base_uri": "https://localhost:8080/"
        },
        "id": "_BnafcrO64Xe",
        "outputId": "4322c451-5bbc-45c8-b794-a70766e8118e"
      },
      "execution_count": null,
      "outputs": [
        {
          "output_type": "stream",
          "name": "stdout",
          "text": [
            "root\n",
            " |-- ID: long (nullable = true)\n",
            " |-- Name: string (nullable = true)\n",
            " |-- Department: string (nullable = true)\n",
            " |-- Salary: long (nullable = true)\n",
            "\n"
          ]
        }
      ]
    },
    {
      "cell_type": "code",
      "source": [
        "# Filter: Salary > 60000\n",
        "df.filter(df[\"Salary\"] > 60000).show()"
      ],
      "metadata": {
        "colab": {
          "base_uri": "https://localhost:8080/"
        },
        "id": "IKn5iC1h64RO",
        "outputId": "07c9b64e-c846-4ff1-e461-699159602276"
      },
      "execution_count": null,
      "outputs": [
        {
          "output_type": "stream",
          "name": "stdout",
          "text": [
            "+---+-----+-----------+------+\n",
            "| ID| Name| Department|Salary|\n",
            "+---+-----+-----------+------+\n",
            "|  1|Alice|Engineering| 65000|\n",
            "|  4|David|Engineering| 72000|\n",
            "+---+-----+-----------+------+\n",
            "\n"
          ]
        }
      ]
    },
    {
      "cell_type": "code",
      "source": [
        "# Group by Department\n",
        "df.groupBy(\"Department\").count().show()"
      ],
      "metadata": {
        "colab": {
          "base_uri": "https://localhost:8080/"
        },
        "id": "oPlPLZvR64Hu",
        "outputId": "0169a21a-5897-4d4a-9fce-b120ff1a8758"
      },
      "execution_count": null,
      "outputs": [
        {
          "output_type": "stream",
          "name": "stdout",
          "text": [
            "+-----------+-----+\n",
            "| Department|count|\n",
            "+-----------+-----+\n",
            "|Engineering|    2|\n",
            "|  Marketing|    1|\n",
            "|      Sales|    2|\n",
            "+-----------+-----+\n",
            "\n"
          ]
        }
      ]
    },
    {
      "cell_type": "code",
      "source": [
        "# Average Salary by Department\n",
        "df.groupBy(\"Department\").avg(\"Salary\").show()"
      ],
      "metadata": {
        "colab": {
          "base_uri": "https://localhost:8080/"
        },
        "id": "ztKlNqOu639X",
        "outputId": "b2adf115-038c-45f2-d9a6-96f150eb1ad9"
      },
      "execution_count": null,
      "outputs": [
        {
          "output_type": "stream",
          "name": "stdout",
          "text": [
            "+-----------+-----------+\n",
            "| Department|avg(Salary)|\n",
            "+-----------+-----------+\n",
            "|Engineering|    68500.0|\n",
            "|  Marketing|    58000.0|\n",
            "|      Sales|    53000.0|\n",
            "+-----------+-----------+\n",
            "\n"
          ]
        }
      ]
    },
    {
      "cell_type": "code",
      "source": [
        "from pyspark.sql import SparkSession\n",
        "from google.colab import files\n",
        "\n",
        "# Upload file\n",
        "uploaded = files.upload()\n",
        "\n",
        "# Get the filename from the uploaded dictionary\n",
        "filename = list(uploaded.keys())[0]\n",
        "\n",
        "# Initialize Spark\n",
        "spark = SparkSession.builder.appName(\"Spark DataFrames\").getOrCreate()\n",
        "\n",
        "# Read uploaded file using the correct filename\n",
        "df = spark.read.csv(filename, header=True, inferSchema=True)\n",
        "\n",
        "df.show()\n",
        "df.printSchema()"
      ],
      "metadata": {
        "colab": {
          "base_uri": "https://localhost:8080/",
          "height": 698
        },
        "id": "zMhdZYhF7JNW",
        "outputId": "3bddb09f-6b46-4a22-bc6d-992742960ab0"
      },
      "execution_count": null,
      "outputs": [
        {
          "output_type": "display_data",
          "data": {
            "text/plain": [
              "<IPython.core.display.HTML object>"
            ],
            "text/html": [
              "\n",
              "     <input type=\"file\" id=\"files-1465fc08-2076-45c4-a674-965b257a7471\" name=\"files[]\" multiple disabled\n",
              "        style=\"border:none\" />\n",
              "     <output id=\"result-1465fc08-2076-45c4-a674-965b257a7471\">\n",
              "      Upload widget is only available when the cell has been executed in the\n",
              "      current browser session. Please rerun this cell to enable.\n",
              "      </output>\n",
              "      <script>// Copyright 2017 Google LLC\n",
              "//\n",
              "// Licensed under the Apache License, Version 2.0 (the \"License\");\n",
              "// you may not use this file except in compliance with the License.\n",
              "// You may obtain a copy of the License at\n",
              "//\n",
              "//      http://www.apache.org/licenses/LICENSE-2.0\n",
              "//\n",
              "// Unless required by applicable law or agreed to in writing, software\n",
              "// distributed under the License is distributed on an \"AS IS\" BASIS,\n",
              "// WITHOUT WARRANTIES OR CONDITIONS OF ANY KIND, either express or implied.\n",
              "// See the License for the specific language governing permissions and\n",
              "// limitations under the License.\n",
              "\n",
              "/**\n",
              " * @fileoverview Helpers for google.colab Python module.\n",
              " */\n",
              "(function(scope) {\n",
              "function span(text, styleAttributes = {}) {\n",
              "  const element = document.createElement('span');\n",
              "  element.textContent = text;\n",
              "  for (const key of Object.keys(styleAttributes)) {\n",
              "    element.style[key] = styleAttributes[key];\n",
              "  }\n",
              "  return element;\n",
              "}\n",
              "\n",
              "// Max number of bytes which will be uploaded at a time.\n",
              "const MAX_PAYLOAD_SIZE = 100 * 1024;\n",
              "\n",
              "function _uploadFiles(inputId, outputId) {\n",
              "  const steps = uploadFilesStep(inputId, outputId);\n",
              "  const outputElement = document.getElementById(outputId);\n",
              "  // Cache steps on the outputElement to make it available for the next call\n",
              "  // to uploadFilesContinue from Python.\n",
              "  outputElement.steps = steps;\n",
              "\n",
              "  return _uploadFilesContinue(outputId);\n",
              "}\n",
              "\n",
              "// This is roughly an async generator (not supported in the browser yet),\n",
              "// where there are multiple asynchronous steps and the Python side is going\n",
              "// to poll for completion of each step.\n",
              "// This uses a Promise to block the python side on completion of each step,\n",
              "// then passes the result of the previous step as the input to the next step.\n",
              "function _uploadFilesContinue(outputId) {\n",
              "  const outputElement = document.getElementById(outputId);\n",
              "  const steps = outputElement.steps;\n",
              "\n",
              "  const next = steps.next(outputElement.lastPromiseValue);\n",
              "  return Promise.resolve(next.value.promise).then((value) => {\n",
              "    // Cache the last promise value to make it available to the next\n",
              "    // step of the generator.\n",
              "    outputElement.lastPromiseValue = value;\n",
              "    return next.value.response;\n",
              "  });\n",
              "}\n",
              "\n",
              "/**\n",
              " * Generator function which is called between each async step of the upload\n",
              " * process.\n",
              " * @param {string} inputId Element ID of the input file picker element.\n",
              " * @param {string} outputId Element ID of the output display.\n",
              " * @return {!Iterable<!Object>} Iterable of next steps.\n",
              " */\n",
              "function* uploadFilesStep(inputId, outputId) {\n",
              "  const inputElement = document.getElementById(inputId);\n",
              "  inputElement.disabled = false;\n",
              "\n",
              "  const outputElement = document.getElementById(outputId);\n",
              "  outputElement.innerHTML = '';\n",
              "\n",
              "  const pickedPromise = new Promise((resolve) => {\n",
              "    inputElement.addEventListener('change', (e) => {\n",
              "      resolve(e.target.files);\n",
              "    });\n",
              "  });\n",
              "\n",
              "  const cancel = document.createElement('button');\n",
              "  inputElement.parentElement.appendChild(cancel);\n",
              "  cancel.textContent = 'Cancel upload';\n",
              "  const cancelPromise = new Promise((resolve) => {\n",
              "    cancel.onclick = () => {\n",
              "      resolve(null);\n",
              "    };\n",
              "  });\n",
              "\n",
              "  // Wait for the user to pick the files.\n",
              "  const files = yield {\n",
              "    promise: Promise.race([pickedPromise, cancelPromise]),\n",
              "    response: {\n",
              "      action: 'starting',\n",
              "    }\n",
              "  };\n",
              "\n",
              "  cancel.remove();\n",
              "\n",
              "  // Disable the input element since further picks are not allowed.\n",
              "  inputElement.disabled = true;\n",
              "\n",
              "  if (!files) {\n",
              "    return {\n",
              "      response: {\n",
              "        action: 'complete',\n",
              "      }\n",
              "    };\n",
              "  }\n",
              "\n",
              "  for (const file of files) {\n",
              "    const li = document.createElement('li');\n",
              "    li.append(span(file.name, {fontWeight: 'bold'}));\n",
              "    li.append(span(\n",
              "        `(${file.type || 'n/a'}) - ${file.size} bytes, ` +\n",
              "        `last modified: ${\n",
              "            file.lastModifiedDate ? file.lastModifiedDate.toLocaleDateString() :\n",
              "                                    'n/a'} - `));\n",
              "    const percent = span('0% done');\n",
              "    li.appendChild(percent);\n",
              "\n",
              "    outputElement.appendChild(li);\n",
              "\n",
              "    const fileDataPromise = new Promise((resolve) => {\n",
              "      const reader = new FileReader();\n",
              "      reader.onload = (e) => {\n",
              "        resolve(e.target.result);\n",
              "      };\n",
              "      reader.readAsArrayBuffer(file);\n",
              "    });\n",
              "    // Wait for the data to be ready.\n",
              "    let fileData = yield {\n",
              "      promise: fileDataPromise,\n",
              "      response: {\n",
              "        action: 'continue',\n",
              "      }\n",
              "    };\n",
              "\n",
              "    // Use a chunked sending to avoid message size limits. See b/62115660.\n",
              "    let position = 0;\n",
              "    do {\n",
              "      const length = Math.min(fileData.byteLength - position, MAX_PAYLOAD_SIZE);\n",
              "      const chunk = new Uint8Array(fileData, position, length);\n",
              "      position += length;\n",
              "\n",
              "      const base64 = btoa(String.fromCharCode.apply(null, chunk));\n",
              "      yield {\n",
              "        response: {\n",
              "          action: 'append',\n",
              "          file: file.name,\n",
              "          data: base64,\n",
              "        },\n",
              "      };\n",
              "\n",
              "      let percentDone = fileData.byteLength === 0 ?\n",
              "          100 :\n",
              "          Math.round((position / fileData.byteLength) * 100);\n",
              "      percent.textContent = `${percentDone}% done`;\n",
              "\n",
              "    } while (position < fileData.byteLength);\n",
              "  }\n",
              "\n",
              "  // All done.\n",
              "  yield {\n",
              "    response: {\n",
              "      action: 'complete',\n",
              "    }\n",
              "  };\n",
              "}\n",
              "\n",
              "scope.google = scope.google || {};\n",
              "scope.google.colab = scope.google.colab || {};\n",
              "scope.google.colab._files = {\n",
              "  _uploadFiles,\n",
              "  _uploadFilesContinue,\n",
              "};\n",
              "})(self);\n",
              "</script> "
            ]
          },
          "metadata": {}
        },
        {
          "output_type": "stream",
          "name": "stdout",
          "text": [
            "Saving employees1 (1).csv to employees1 (1) (2).csv\n",
            "+-----------+----------+---------+--------+------------+---------+----------+------+\n",
            "|EMPLOYEE_ID|FIRST_NAME|LAST_NAME|   EMAIL|PHONE_NUMBER|HIRE_DATE|    JOB_ID|SALARY|\n",
            "+-----------+----------+---------+--------+------------+---------+----------+------+\n",
            "|        198|    Donald| OConnell|DOCONNEL|650.507.9833|21-Jun-07|  SH_CLERK|  2600|\n",
            "|        199|   Douglas|    Grant|  DGRANT|650.507.9844|13-Jan-08|  SH_CLERK|  2600|\n",
            "|        200|  Jennifer|   Whalen| JWHALEN|515.123.4444|17-Sep-03|   AD_ASST|  4400|\n",
            "|        201|   Michael|Hartstein|MHARTSTE|515.123.5555|17-Feb-04|    MK_MAN| 13000|\n",
            "|        202|       Pat|      Fay|    PFAY|603.123.6666|17-Aug-05|    MK_REP|  6000|\n",
            "|        203|     Susan|   Mavris| SMAVRIS|515.123.7777|07-Jun-02|    HR_REP|  6500|\n",
            "|        204|   Hermann|     Baer|   HBAER|515.123.8888|07-Jun-02|    PR_REP| 10000|\n",
            "|        205|   Shelley|  Higgins|SHIGGINS|515.123.8080|07-Jun-02|    AC_MGR| 12008|\n",
            "|        206|   William|    Gietz|  WGIETZ|515.123.8181|07-Jun-02|AC_ACCOUNT|  8300|\n",
            "|        100|    Steven|     King|   SKING|515.123.4567|17-Jun-03|   AD_PRES| 24000|\n",
            "|        101|     Neena|  Kochhar|NKOCHHAR|515.123.4568|21-Sep-05|     AD_VP| 17000|\n",
            "|        102|       Lex|  De Haan| LDEHAAN|515.123.4569|13-Jan-01|     AD_VP| 17000|\n",
            "|        103| Alexander|   Hunold| AHUNOLD|590.423.4567|03-Jan-06|   IT_PROG|  9000|\n",
            "|        104|     Bruce|    Ernst|  BERNST|590.423.4568|21-May-07|   IT_PROG|  6000|\n",
            "|        105|     David|   Austin| DAUSTIN|590.423.4569|25-Jun-05|   IT_PROG|  4800|\n",
            "|        106|     Valli|Pataballa|VPATABAL|590.423.4560|05-Feb-06|   IT_PROG|  4800|\n",
            "|        107|     Diana|  Lorentz|DLORENTZ|590.423.5567|07-Feb-07|   IT_PROG|  4200|\n",
            "|        108|     Nancy|Greenberg|NGREENBE|515.124.4569|17-Aug-02|    FI_MGR| 12008|\n",
            "|        109|    Daniel|   Faviet| DFAVIET|515.124.4169|16-Aug-02|FI_ACCOUNT|  9000|\n",
            "|        110|      John|     Chen|   JCHEN|515.124.4269|28-Sep-05|FI_ACCOUNT|  8200|\n",
            "+-----------+----------+---------+--------+------------+---------+----------+------+\n",
            "only showing top 20 rows\n",
            "\n",
            "root\n",
            " |-- EMPLOYEE_ID: integer (nullable = true)\n",
            " |-- FIRST_NAME: string (nullable = true)\n",
            " |-- LAST_NAME: string (nullable = true)\n",
            " |-- EMAIL: string (nullable = true)\n",
            " |-- PHONE_NUMBER: string (nullable = true)\n",
            " |-- HIRE_DATE: string (nullable = true)\n",
            " |-- JOB_ID: string (nullable = true)\n",
            " |-- SALARY: integer (nullable = true)\n",
            "\n"
          ]
        }
      ]
    },
    {
      "cell_type": "code",
      "source": [
        "from pyspark.sql import SparkSession\n",
        "spark = SparkSession.builder \\\n",
        ".appName(\"EmployeeDataAnalysis\") \\\n",
        ".getOrCreate()"
      ],
      "metadata": {
        "id": "wCesJght7JD-"
      },
      "execution_count": null,
      "outputs": []
    },
    {
      "cell_type": "code",
      "source": [
        "# Assume you uploaded employees.csv to Databricks at /tmp/employees.csv.\n",
        "# Get the filename from the uploaded dictionary\n",
        "filename = list(uploaded.keys())[0]\n",
        "\n",
        "df = spark.read.option(\"header\", True).option(\"inferSchema\",True).csv(filename)\n",
        "df.show()"
      ],
      "metadata": {
        "colab": {
          "base_uri": "https://localhost:8080/"
        },
        "id": "0Y-W7zQx7JA2",
        "outputId": "24cefba4-04cb-412e-9617-384b50c8df35"
      },
      "execution_count": null,
      "outputs": [
        {
          "output_type": "stream",
          "name": "stdout",
          "text": [
            "+-----------+----------+---------+--------+------------+---------+----------+------+\n",
            "|EMPLOYEE_ID|FIRST_NAME|LAST_NAME|   EMAIL|PHONE_NUMBER|HIRE_DATE|    JOB_ID|SALARY|\n",
            "+-----------+----------+---------+--------+------------+---------+----------+------+\n",
            "|        198|    Donald| OConnell|DOCONNEL|650.507.9833|21-Jun-07|  SH_CLERK|  2600|\n",
            "|        199|   Douglas|    Grant|  DGRANT|650.507.9844|13-Jan-08|  SH_CLERK|  2600|\n",
            "|        200|  Jennifer|   Whalen| JWHALEN|515.123.4444|17-Sep-03|   AD_ASST|  4400|\n",
            "|        201|   Michael|Hartstein|MHARTSTE|515.123.5555|17-Feb-04|    MK_MAN| 13000|\n",
            "|        202|       Pat|      Fay|    PFAY|603.123.6666|17-Aug-05|    MK_REP|  6000|\n",
            "|        203|     Susan|   Mavris| SMAVRIS|515.123.7777|07-Jun-02|    HR_REP|  6500|\n",
            "|        204|   Hermann|     Baer|   HBAER|515.123.8888|07-Jun-02|    PR_REP| 10000|\n",
            "|        205|   Shelley|  Higgins|SHIGGINS|515.123.8080|07-Jun-02|    AC_MGR| 12008|\n",
            "|        206|   William|    Gietz|  WGIETZ|515.123.8181|07-Jun-02|AC_ACCOUNT|  8300|\n",
            "|        100|    Steven|     King|   SKING|515.123.4567|17-Jun-03|   AD_PRES| 24000|\n",
            "|        101|     Neena|  Kochhar|NKOCHHAR|515.123.4568|21-Sep-05|     AD_VP| 17000|\n",
            "|        102|       Lex|  De Haan| LDEHAAN|515.123.4569|13-Jan-01|     AD_VP| 17000|\n",
            "|        103| Alexander|   Hunold| AHUNOLD|590.423.4567|03-Jan-06|   IT_PROG|  9000|\n",
            "|        104|     Bruce|    Ernst|  BERNST|590.423.4568|21-May-07|   IT_PROG|  6000|\n",
            "|        105|     David|   Austin| DAUSTIN|590.423.4569|25-Jun-05|   IT_PROG|  4800|\n",
            "|        106|     Valli|Pataballa|VPATABAL|590.423.4560|05-Feb-06|   IT_PROG|  4800|\n",
            "|        107|     Diana|  Lorentz|DLORENTZ|590.423.5567|07-Feb-07|   IT_PROG|  4200|\n",
            "|        108|     Nancy|Greenberg|NGREENBE|515.124.4569|17-Aug-02|    FI_MGR| 12008|\n",
            "|        109|    Daniel|   Faviet| DFAVIET|515.124.4169|16-Aug-02|FI_ACCOUNT|  9000|\n",
            "|        110|      John|     Chen|   JCHEN|515.124.4269|28-Sep-05|FI_ACCOUNT|  8200|\n",
            "+-----------+----------+---------+--------+------------+---------+----------+------+\n",
            "only showing top 20 rows\n",
            "\n"
          ]
        }
      ]
    },
    {
      "cell_type": "code",
      "source": [
        "df.printSchema()"
      ],
      "metadata": {
        "colab": {
          "base_uri": "https://localhost:8080/"
        },
        "id": "_a6fC_f57I42",
        "outputId": "d07d8a87-f704-491e-8807-6b3818e29bb1"
      },
      "execution_count": null,
      "outputs": [
        {
          "output_type": "stream",
          "name": "stdout",
          "text": [
            "root\n",
            " |-- EMPLOYEE_ID: integer (nullable = true)\n",
            " |-- FIRST_NAME: string (nullable = true)\n",
            " |-- LAST_NAME: string (nullable = true)\n",
            " |-- EMAIL: string (nullable = true)\n",
            " |-- PHONE_NUMBER: string (nullable = true)\n",
            " |-- HIRE_DATE: string (nullable = true)\n",
            " |-- JOB_ID: string (nullable = true)\n",
            " |-- SALARY: integer (nullable = true)\n",
            "\n"
          ]
        }
      ]
    },
    {
      "cell_type": "code",
      "source": [
        "df.groupBy(\"JOB_ID\").avg(\"Salary\").show()"
      ],
      "metadata": {
        "colab": {
          "base_uri": "https://localhost:8080/"
        },
        "id": "DExw4HB1LMp4",
        "outputId": "cd7a8762-9fbc-4c32-ee33-087d45723abd"
      },
      "execution_count": null,
      "outputs": [
        {
          "output_type": "stream",
          "name": "stdout",
          "text": [
            "+----------+-----------+\n",
            "|    JOB_ID|avg(Salary)|\n",
            "+----------+-----------+\n",
            "|FI_ACCOUNT|     7920.0|\n",
            "|    MK_MAN|    13000.0|\n",
            "|   IT_PROG|     5760.0|\n",
            "|    FI_MGR|    12008.0|\n",
            "|AC_ACCOUNT|     8300.0|\n",
            "|    HR_REP|     6500.0|\n",
            "|  PU_CLERK|     2780.0|\n",
            "|    AC_MGR|    12008.0|\n",
            "|    PR_REP|    10000.0|\n",
            "|    ST_MAN|     7280.0|\n",
            "|    MK_REP|     6000.0|\n",
            "|    PU_MAN|    11000.0|\n",
            "|  SH_CLERK|     2600.0|\n",
            "|   AD_PRES|    24000.0|\n",
            "|   AD_ASST|     4400.0|\n",
            "|  ST_CLERK|     2750.0|\n",
            "|     AD_VP|    17000.0|\n",
            "+----------+-----------+\n",
            "\n"
          ]
        }
      ]
    },
    {
      "cell_type": "code",
      "source": [
        "df = df.withColumn(\"Bonus\", df[\"Salary\"] * 0.10)\n",
        "df.show()"
      ],
      "metadata": {
        "colab": {
          "base_uri": "https://localhost:8080/"
        },
        "id": "wZLCM__YLMh3",
        "outputId": "9a9e3c7f-94f2-4e6a-c968-7b676c289ad9"
      },
      "execution_count": null,
      "outputs": [
        {
          "output_type": "stream",
          "name": "stdout",
          "text": [
            "+-----------+----------+---------+--------+------------+---------+----------+------+------+\n",
            "|EMPLOYEE_ID|FIRST_NAME|LAST_NAME|   EMAIL|PHONE_NUMBER|HIRE_DATE|    JOB_ID|SALARY| Bonus|\n",
            "+-----------+----------+---------+--------+------------+---------+----------+------+------+\n",
            "|        198|    Donald| OConnell|DOCONNEL|650.507.9833|21-Jun-07|  SH_CLERK|  2600| 260.0|\n",
            "|        199|   Douglas|    Grant|  DGRANT|650.507.9844|13-Jan-08|  SH_CLERK|  2600| 260.0|\n",
            "|        200|  Jennifer|   Whalen| JWHALEN|515.123.4444|17-Sep-03|   AD_ASST|  4400| 440.0|\n",
            "|        201|   Michael|Hartstein|MHARTSTE|515.123.5555|17-Feb-04|    MK_MAN| 13000|1300.0|\n",
            "|        202|       Pat|      Fay|    PFAY|603.123.6666|17-Aug-05|    MK_REP|  6000| 600.0|\n",
            "|        203|     Susan|   Mavris| SMAVRIS|515.123.7777|07-Jun-02|    HR_REP|  6500| 650.0|\n",
            "|        204|   Hermann|     Baer|   HBAER|515.123.8888|07-Jun-02|    PR_REP| 10000|1000.0|\n",
            "|        205|   Shelley|  Higgins|SHIGGINS|515.123.8080|07-Jun-02|    AC_MGR| 12008|1200.8|\n",
            "|        206|   William|    Gietz|  WGIETZ|515.123.8181|07-Jun-02|AC_ACCOUNT|  8300| 830.0|\n",
            "|        100|    Steven|     King|   SKING|515.123.4567|17-Jun-03|   AD_PRES| 24000|2400.0|\n",
            "|        101|     Neena|  Kochhar|NKOCHHAR|515.123.4568|21-Sep-05|     AD_VP| 17000|1700.0|\n",
            "|        102|       Lex|  De Haan| LDEHAAN|515.123.4569|13-Jan-01|     AD_VP| 17000|1700.0|\n",
            "|        103| Alexander|   Hunold| AHUNOLD|590.423.4567|03-Jan-06|   IT_PROG|  9000| 900.0|\n",
            "|        104|     Bruce|    Ernst|  BERNST|590.423.4568|21-May-07|   IT_PROG|  6000| 600.0|\n",
            "|        105|     David|   Austin| DAUSTIN|590.423.4569|25-Jun-05|   IT_PROG|  4800| 480.0|\n",
            "|        106|     Valli|Pataballa|VPATABAL|590.423.4560|05-Feb-06|   IT_PROG|  4800| 480.0|\n",
            "|        107|     Diana|  Lorentz|DLORENTZ|590.423.5567|07-Feb-07|   IT_PROG|  4200| 420.0|\n",
            "|        108|     Nancy|Greenberg|NGREENBE|515.124.4569|17-Aug-02|    FI_MGR| 12008|1200.8|\n",
            "|        109|    Daniel|   Faviet| DFAVIET|515.124.4169|16-Aug-02|FI_ACCOUNT|  9000| 900.0|\n",
            "|        110|      John|     Chen|   JCHEN|515.124.4269|28-Sep-05|FI_ACCOUNT|  8200| 820.0|\n",
            "+-----------+----------+---------+--------+------------+---------+----------+------+------+\n",
            "only showing top 20 rows\n",
            "\n"
          ]
        }
      ]
    },
    {
      "cell_type": "code",
      "source": [
        "df.filter(df[\"Salary\"] > 70000).show()"
      ],
      "metadata": {
        "colab": {
          "base_uri": "https://localhost:8080/"
        },
        "id": "1MRcOXQBLMZz",
        "outputId": "31417db5-7d03-4eb0-a3fc-24da932ea990"
      },
      "execution_count": null,
      "outputs": [
        {
          "output_type": "stream",
          "name": "stdout",
          "text": [
            "+-----------+----------+---------+-----+------------+---------+------+------+-----+\n",
            "|EMPLOYEE_ID|FIRST_NAME|LAST_NAME|EMAIL|PHONE_NUMBER|HIRE_DATE|JOB_ID|SALARY|Bonus|\n",
            "+-----------+----------+---------+-----+------------+---------+------+------+-----+\n",
            "+-----------+----------+---------+-----+------------+---------+------+------+-----+\n",
            "\n"
          ]
        }
      ]
    },
    {
      "cell_type": "code",
      "source": [
        "df.groupBy(\"JOB_ID\").avg(\"Salary\").show()"
      ],
      "metadata": {
        "colab": {
          "base_uri": "https://localhost:8080/"
        },
        "id": "OKhSfMvoMczH",
        "outputId": "100fc089-934d-4530-ca48-7b1eed8d2144"
      },
      "execution_count": null,
      "outputs": [
        {
          "output_type": "stream",
          "name": "stdout",
          "text": [
            "+----------+-----------+\n",
            "|    JOB_ID|avg(Salary)|\n",
            "+----------+-----------+\n",
            "|FI_ACCOUNT|     7920.0|\n",
            "|    MK_MAN|    13000.0|\n",
            "|   IT_PROG|     5760.0|\n",
            "|    FI_MGR|    12008.0|\n",
            "|AC_ACCOUNT|     8300.0|\n",
            "|    HR_REP|     6500.0|\n",
            "|  PU_CLERK|     2780.0|\n",
            "|    AC_MGR|    12008.0|\n",
            "|    PR_REP|    10000.0|\n",
            "|    ST_MAN|     7280.0|\n",
            "|    MK_REP|     6000.0|\n",
            "|    PU_MAN|    11000.0|\n",
            "|  SH_CLERK|     2600.0|\n",
            "|   AD_PRES|    24000.0|\n",
            "|   AD_ASST|     4400.0|\n",
            "|  ST_CLERK|     2750.0|\n",
            "|     AD_VP|    17000.0|\n",
            "+----------+-----------+\n",
            "\n"
          ]
        }
      ]
    },
    {
      "cell_type": "markdown",
      "source": [],
      "metadata": {
        "id": "-VqEuSyGM_S8"
      }
    },
    {
      "cell_type": "code",
      "source": [],
      "metadata": {
        "id": "RlU96hkXMcrH"
      },
      "execution_count": null,
      "outputs": []
    }
  ]
}
